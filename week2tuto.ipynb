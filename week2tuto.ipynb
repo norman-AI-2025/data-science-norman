{
  "nbformat": 4,
  "nbformat_minor": 0,
  "metadata": {
    "colab": {
      "provenance": [],
      "authorship_tag": "ABX9TyNbqpbGD09ITAxYOfYyLbHZ",
      "include_colab_link": true
    },
    "kernelspec": {
      "name": "python3",
      "display_name": "Python 3"
    },
    "language_info": {
      "name": "python"
    }
  },
  "cells": [
    {
      "cell_type": "markdown",
      "metadata": {
        "id": "view-in-github",
        "colab_type": "text"
      },
      "source": [
        "<a href=\"https://colab.research.google.com/github/norman-AI-2025/data-science-norman/blob/main/week2tuto.ipynb\" target=\"_parent\"><img src=\"https://colab.research.google.com/assets/colab-badge.svg\" alt=\"Open In Colab\"/></a>"
      ]
    },
    {
      "cell_type": "code",
      "execution_count": null,
      "metadata": {
        "id": "boKrIuBC98N1"
      },
      "outputs": [],
      "source": [
        "import numpy as np"
      ]
    },
    {
      "cell_type": "code",
      "source": [
        "arr1 = np.array([[0,1,2],[3,4,5]])\n",
        "print(arr1)"
      ],
      "metadata": {
        "colab": {
          "base_uri": "https://localhost:8080/"
        },
        "id": "6wc9GhkI-B4v",
        "outputId": "d7ec7b6f-b60c-42ed-f3f9-924c5f3954d2"
      },
      "execution_count": null,
      "outputs": [
        {
          "output_type": "stream",
          "name": "stdout",
          "text": [
            "[[0 1 2]\n",
            " [3 4 5]]\n"
          ]
        }
      ]
    },
    {
      "cell_type": "code",
      "source": [
        "arr2=np.random.rand(3,4)\n",
        "print(arr2)\n"
      ],
      "metadata": {
        "colab": {
          "base_uri": "https://localhost:8080/"
        },
        "id": "6g9O-GIt-CP-",
        "outputId": "bdf1e57a-1ef8-4359-dcb7-50ee4ed323a1"
      },
      "execution_count": null,
      "outputs": [
        {
          "output_type": "stream",
          "name": "stdout",
          "text": [
            "[[9.81970573e-01 1.48725562e-02 8.40979960e-02 4.08033126e-01]\n",
            " [1.96089876e-04 3.82226970e-01 2.77037105e-01 3.71067983e-01]\n",
            " [5.82547084e-01 5.91577763e-01 5.17535747e-01 9.40527713e-01]]\n"
          ]
        }
      ]
    },
    {
      "cell_type": "code",
      "source": [
        "arr_zero = np.zeros((3,4))\n",
        "print(arr_zero)\n"
      ],
      "metadata": {
        "colab": {
          "base_uri": "https://localhost:8080/"
        },
        "id": "SuMnfSWN-EDa",
        "outputId": "4ed17009-416b-48e5-8e3b-24b9546c37c6"
      },
      "execution_count": null,
      "outputs": [
        {
          "output_type": "stream",
          "name": "stdout",
          "text": [
            "[[0. 0. 0. 0.]\n",
            " [0. 0. 0. 0.]\n",
            " [0. 0. 0. 0.]]\n"
          ]
        }
      ]
    },
    {
      "cell_type": "code",
      "source": [
        "arr_ones = np.ones((3,4))\n",
        "print(arr_ones)\n"
      ],
      "metadata": {
        "colab": {
          "base_uri": "https://localhost:8080/"
        },
        "id": "c09h3Fei-FrC",
        "outputId": "25d174cb-22a3-42a6-ee56-a7863dbed95d"
      },
      "execution_count": null,
      "outputs": [
        {
          "output_type": "stream",
          "name": "stdout",
          "text": [
            "[[1. 1. 1. 1.]\n",
            " [1. 1. 1. 1.]\n",
            " [1. 1. 1. 1.]]\n"
          ]
        }
      ]
    },
    {
      "cell_type": "code",
      "source": [
        "arr_ran = np.random.rand(6,3)\n",
        "print(arr_ran.T)"
      ],
      "metadata": {
        "colab": {
          "base_uri": "https://localhost:8080/"
        },
        "id": "Kz7GrVPy-JYf",
        "outputId": "9badfe1b-09bd-4e5c-f81b-0b7b42d233e9"
      },
      "execution_count": null,
      "outputs": [
        {
          "output_type": "stream",
          "name": "stdout",
          "text": [
            "[[0.08491941 0.52532682 0.41267635 0.51604639 0.11420606 0.64025397]\n",
            " [0.4204971  0.56736231 0.59885876 0.34514809 0.33490116 0.60863538]\n",
            " [0.69805886 0.06119301 0.01412019 0.61073644 0.10452548 0.50722542]]\n"
          ]
        }
      ]
    },
    {
      "cell_type": "code",
      "source": [
        "arr_dot1 = np.random.rand(2,3)\n",
        "arr_dot2 = np.random.rand(3,4)\n",
        "print(arr_dot1 , \"\\n\\n\" ,arr_dot2)\n",
        "dot_product = np.dot(arr_dot1,arr_dot2)\n",
        "print(\"\\n\\n\",dot_product)"
      ],
      "metadata": {
        "colab": {
          "base_uri": "https://localhost:8080/"
        },
        "id": "KBQ6iLNh-J16",
        "outputId": "dc1e1650-aa8a-4556-8769-18cdf4ca3593"
      },
      "execution_count": null,
      "outputs": [
        {
          "output_type": "stream",
          "name": "stdout",
          "text": [
            "[[0.75621413 0.50471276 0.38036883]\n",
            " [0.91973512 0.13234706 0.16137186]] \n",
            "\n",
            " [[0.12548307 0.26976982 0.43875861 0.13681349]\n",
            " [0.53036376 0.13135198 0.17878887 0.68841171]\n",
            " [0.33253937 0.54178236 0.63660364 0.48314491]]\n",
            "\n",
            "\n",
            " [[0.48906105 0.4763759  0.66417667 0.63468374]\n",
            " [0.23926577 0.35292925 0.5299338  0.29490743]]\n"
          ]
        }
      ]
    },
    {
      "cell_type": "code",
      "source": [],
      "metadata": {
        "id": "tz1vbLgGH3y5"
      },
      "execution_count": null,
      "outputs": []
    }
  ]
}